{
 "cells": [
  {
   "cell_type": "code",
   "execution_count": 1,
   "id": "0821a93d-0a58-4dfb-82d5-0928ca04f8ff",
   "metadata": {},
   "outputs": [],
   "source": [
    "import pandas as pd\n",
    "import numpy as np\n",
    "import matplotlib.pyplot as plt"
   ]
  },
  {
   "cell_type": "code",
   "execution_count": 2,
   "id": "10c93df5-a94c-48f0-9c9e-b2e5af355a33",
   "metadata": {},
   "outputs": [
    {
     "data": {
      "text/plain": [
       "<_io.TextIOWrapper name='C:/Users/bahaa/OneDrive/Masaüstü/some_of_them/feelings/train.txt' mode='r' encoding='cp1254'>"
      ]
     },
     "execution_count": 2,
     "metadata": {},
     "output_type": "execute_result"
    }
   ],
   "source": [
    "open(\"C:/Users/bahaa/OneDrive/Masaüstü/some_of_them/feelings/train.txt\",\"r\")"
   ]
  },
  {
   "cell_type": "code",
   "execution_count": 3,
   "id": "f32589ef-5ca2-4842-9f34-625d2f9fc176",
   "metadata": {},
   "outputs": [],
   "source": [
    "emotions_arr=[]\n",
    "with open('C:/Users/bahaa/OneDrive/Masaüstü/some_of_them/feelings/train.txt', 'r') as file:\n",
    "    for line in file:\n",
    "        emotions_arr.append(line.strip().split(\";\"))\n",
    "        "
   ]
  },
  {
   "cell_type": "code",
   "execution_count": null,
   "id": "2e38b084-eeb8-483c-86c4-3da1abf3f45d",
   "metadata": {},
   "outputs": [],
   "source": []
  },
  {
   "cell_type": "code",
   "execution_count": 4,
   "id": "84edef99-17bf-42d0-9ffb-383f8f19c004",
   "metadata": {},
   "outputs": [],
   "source": [
    "dataframe_our=pd.DataFrame(emotions_arr,columns=[\"text\",\"category\"])"
   ]
  },
  {
   "cell_type": "code",
   "execution_count": 5,
   "id": "8446eee9-7ac9-4730-966e-f74ddd1b567a",
   "metadata": {},
   "outputs": [
    {
     "data": {
      "text/html": [
       "<div>\n",
       "<style scoped>\n",
       "    .dataframe tbody tr th:only-of-type {\n",
       "        vertical-align: middle;\n",
       "    }\n",
       "\n",
       "    .dataframe tbody tr th {\n",
       "        vertical-align: top;\n",
       "    }\n",
       "\n",
       "    .dataframe thead th {\n",
       "        text-align: right;\n",
       "    }\n",
       "</style>\n",
       "<table border=\"1\" class=\"dataframe\">\n",
       "  <thead>\n",
       "    <tr style=\"text-align: right;\">\n",
       "      <th></th>\n",
       "      <th>text</th>\n",
       "      <th>category</th>\n",
       "    </tr>\n",
       "  </thead>\n",
       "  <tbody>\n",
       "    <tr>\n",
       "      <th>0</th>\n",
       "      <td>i didnt feel humiliated</td>\n",
       "      <td>sadness</td>\n",
       "    </tr>\n",
       "    <tr>\n",
       "      <th>1</th>\n",
       "      <td>i can go from feeling so hopeless to so damned...</td>\n",
       "      <td>sadness</td>\n",
       "    </tr>\n",
       "    <tr>\n",
       "      <th>2</th>\n",
       "      <td>im grabbing a minute to post i feel greedy wrong</td>\n",
       "      <td>anger</td>\n",
       "    </tr>\n",
       "    <tr>\n",
       "      <th>3</th>\n",
       "      <td>i am ever feeling nostalgic about the fireplac...</td>\n",
       "      <td>love</td>\n",
       "    </tr>\n",
       "    <tr>\n",
       "      <th>4</th>\n",
       "      <td>i am feeling grouchy</td>\n",
       "      <td>anger</td>\n",
       "    </tr>\n",
       "    <tr>\n",
       "      <th>...</th>\n",
       "      <td>...</td>\n",
       "      <td>...</td>\n",
       "    </tr>\n",
       "    <tr>\n",
       "      <th>15995</th>\n",
       "      <td>i just had a very brief time in the beanbag an...</td>\n",
       "      <td>sadness</td>\n",
       "    </tr>\n",
       "    <tr>\n",
       "      <th>15996</th>\n",
       "      <td>i am now turning and i feel pathetic that i am...</td>\n",
       "      <td>sadness</td>\n",
       "    </tr>\n",
       "    <tr>\n",
       "      <th>15997</th>\n",
       "      <td>i feel strong and good overall</td>\n",
       "      <td>joy</td>\n",
       "    </tr>\n",
       "    <tr>\n",
       "      <th>15998</th>\n",
       "      <td>i feel like this was such a rude comment and i...</td>\n",
       "      <td>anger</td>\n",
       "    </tr>\n",
       "    <tr>\n",
       "      <th>15999</th>\n",
       "      <td>i know a lot but i feel so stupid because i ca...</td>\n",
       "      <td>sadness</td>\n",
       "    </tr>\n",
       "  </tbody>\n",
       "</table>\n",
       "<p>16000 rows × 2 columns</p>\n",
       "</div>"
      ],
      "text/plain": [
       "                                                    text category\n",
       "0                                i didnt feel humiliated  sadness\n",
       "1      i can go from feeling so hopeless to so damned...  sadness\n",
       "2       im grabbing a minute to post i feel greedy wrong    anger\n",
       "3      i am ever feeling nostalgic about the fireplac...     love\n",
       "4                                   i am feeling grouchy    anger\n",
       "...                                                  ...      ...\n",
       "15995  i just had a very brief time in the beanbag an...  sadness\n",
       "15996  i am now turning and i feel pathetic that i am...  sadness\n",
       "15997                     i feel strong and good overall      joy\n",
       "15998  i feel like this was such a rude comment and i...    anger\n",
       "15999  i know a lot but i feel so stupid because i ca...  sadness\n",
       "\n",
       "[16000 rows x 2 columns]"
      ]
     },
     "execution_count": 5,
     "metadata": {},
     "output_type": "execute_result"
    }
   ],
   "source": [
    "dataframe_our"
   ]
  },
  {
   "cell_type": "code",
   "execution_count": 6,
   "id": "e9bec010-55e3-4e50-9117-207bd005e8e7",
   "metadata": {},
   "outputs": [],
   "source": [
    "import tensorflow as tf"
   ]
  },
  {
   "cell_type": "code",
   "execution_count": null,
   "id": "f5cf30b6-eae0-422a-b24c-da476a0b4fd1",
   "metadata": {},
   "outputs": [],
   "source": []
  },
  {
   "cell_type": "code",
   "execution_count": 7,
   "id": "4d96937f-1af2-401b-be46-64786e215f25",
   "metadata": {},
   "outputs": [
    {
     "data": {
      "text/plain": [
       "category\n",
       "joy         5362\n",
       "sadness     4666\n",
       "anger       2159\n",
       "fear        1937\n",
       "love        1304\n",
       "surprise     572\n",
       "Name: count, dtype: int64"
      ]
     },
     "execution_count": 7,
     "metadata": {},
     "output_type": "execute_result"
    }
   ],
   "source": [
    "dataframe_our.category.value_counts()"
   ]
  },
  {
   "cell_type": "code",
   "execution_count": 8,
   "id": "48e79efd-2173-4b8c-a4b3-44e7f3225a51",
   "metadata": {},
   "outputs": [
    {
     "data": {
      "text/plain": [
       "array(['sadness', 'anger', 'love', 'surprise', 'fear', 'joy'],\n",
       "      dtype=object)"
      ]
     },
     "execution_count": 8,
     "metadata": {},
     "output_type": "execute_result"
    }
   ],
   "source": [
    "pd.unique(dataframe_our.category)"
   ]
  },
  {
   "cell_type": "code",
   "execution_count": 9,
   "id": "25f49251-a2c3-4223-92a8-fa825f57f5c2",
   "metadata": {},
   "outputs": [],
   "source": [
    "dataframe_our.dropna(inplace=True)"
   ]
  },
  {
   "cell_type": "code",
   "execution_count": 10,
   "id": "a006b8f5-baae-4aa2-a19e-1c69965eec7f",
   "metadata": {},
   "outputs": [
    {
     "data": {
      "text/plain": [
       "category\n",
       "joy         5362\n",
       "sadness     4666\n",
       "anger       2159\n",
       "fear        1937\n",
       "love        1304\n",
       "surprise     572\n",
       "Name: count, dtype: int64"
      ]
     },
     "execution_count": 10,
     "metadata": {},
     "output_type": "execute_result"
    }
   ],
   "source": [
    "dataframe_our.category.value_counts()"
   ]
  },
  {
   "cell_type": "code",
   "execution_count": 11,
   "id": "37c54cee-4045-492f-9485-c7e6c7851253",
   "metadata": {},
   "outputs": [],
   "source": [
    "def imaged():\n",
    "    \n",
    "    plt.figure(figsize=[10,5])\n",
    "    \n",
    "    fig=plt.subplot(1,2,1)\n",
    "    plt.bar([\"joy\",\"sadness\",\"anger\",\"fear\",\"love\",\"surprise\"],dataframe_our.category.value_counts())\n",
    "    plt.title(\"Bar;\")\n",
    "    plt.xlabel(\"Kategoriler\")\n",
    "    plt.ylabel(\"Değerler\")\n",
    "    fig=plt.subplot(1,2,2)\n",
    "    plt.pie(dataframe_our.category.value_counts(),labels=[\"joy\",\"sadness\",\"anger\",\"fear\",\"love\",\"surprise\"],autopct='%1.1f%%')\n",
    "    plt.title(\"Pie;\")\n",
    "    "
   ]
  },
  {
   "cell_type": "code",
   "execution_count": 12,
   "id": "1b6445ed-9fdc-43c1-8f76-e0fdf59bd8ca",
   "metadata": {},
   "outputs": [
    {
     "data": {
      "image/png": "[encoded data removed]",
      "text/plain": [
       "<Figure size 1000x500 with 2 Axes>"
      ]
     },
     "metadata": {},
     "output_type": "display_data"
    }
   ],
   "source": [
    "imaged()"
   ]
  },
  {
   "cell_type": "code",
   "execution_count": 12,
   "id": "91ba3e11-4f8a-4cca-adc7-408884a38286",
   "metadata": {},
   "outputs": [],
   "source": [
    "import spacy\n",
    "nlp=spacy.load(\"en_core_web_lg\")\n",
    "def preprocess(text):\n",
    "    doc=nlp(text)\n",
    "    filtered_tokens = []\n",
    "    for token in doc:\n",
    "        if token.is_stop or token.is_punct:\n",
    "            continue\n",
    "        filtered_tokens.append(token.lemma_)\n",
    "    \n",
    "    return \" \".join(filtered_tokens) "
   ]
  },
  {
   "cell_type": "code",
   "execution_count": 13,
   "id": "7d144766-6237-499a-9469-436da241c666",
   "metadata": {},
   "outputs": [],
   "source": [
    "listem=dataframe_our.text.apply(preprocess)"
   ]
  },
  {
   "cell_type": "code",
   "execution_count": 14,
   "id": "bba7a1fd-b723-4008-8f4e-e98edb1e4aff",
   "metadata": {},
   "outputs": [],
   "source": [
    "dataframe_our[\"lemmatization\"]=listem"
   ]
  },
  {
   "cell_type": "code",
   "execution_count": 15,
   "id": "bcb538c2-a11b-4a40-81b3-813af294c71c",
   "metadata": {},
   "outputs": [
    {
     "data": {
      "text/html": [
       "<div>\n",
       "<style scoped>\n",
       "    .dataframe tbody tr th:only-of-type {\n",
       "        vertical-align: middle;\n",
       "    }\n",
       "\n",
       "    .dataframe tbody tr th {\n",
       "        vertical-align: top;\n",
       "    }\n",
       "\n",
       "    .dataframe thead th {\n",
       "        text-align: right;\n",
       "    }\n",
       "</style>\n",
       "<table border=\"1\" class=\"dataframe\">\n",
       "  <thead>\n",
       "    <tr style=\"text-align: right;\">\n",
       "      <th></th>\n",
       "      <th>text</th>\n",
       "      <th>category</th>\n",
       "      <th>lemmatization</th>\n",
       "    </tr>\n",
       "  </thead>\n",
       "  <tbody>\n",
       "    <tr>\n",
       "      <th>0</th>\n",
       "      <td>i didnt feel humiliated</td>\n",
       "      <td>sadness</td>\n",
       "      <td>not feel humiliate</td>\n",
       "    </tr>\n",
       "    <tr>\n",
       "      <th>1</th>\n",
       "      <td>i can go from feeling so hopeless to so damned...</td>\n",
       "      <td>sadness</td>\n",
       "      <td>feeling hopeless damn hopeful care awake</td>\n",
       "    </tr>\n",
       "    <tr>\n",
       "      <th>2</th>\n",
       "      <td>im grabbing a minute to post i feel greedy wrong</td>\n",
       "      <td>anger</td>\n",
       "      <td>m grab minute post feel greedy wrong</td>\n",
       "    </tr>\n",
       "    <tr>\n",
       "      <th>3</th>\n",
       "      <td>i am ever feeling nostalgic about the fireplac...</td>\n",
       "      <td>love</td>\n",
       "      <td>feel nostalgic fireplace know property</td>\n",
       "    </tr>\n",
       "    <tr>\n",
       "      <th>4</th>\n",
       "      <td>i am feeling grouchy</td>\n",
       "      <td>anger</td>\n",
       "      <td>feel grouchy</td>\n",
       "    </tr>\n",
       "    <tr>\n",
       "      <th>...</th>\n",
       "      <td>...</td>\n",
       "      <td>...</td>\n",
       "      <td>...</td>\n",
       "    </tr>\n",
       "    <tr>\n",
       "      <th>15995</th>\n",
       "      <td>i just had a very brief time in the beanbag an...</td>\n",
       "      <td>sadness</td>\n",
       "      <td>brief time beanbag say anna feel like beat</td>\n",
       "    </tr>\n",
       "    <tr>\n",
       "      <th>15996</th>\n",
       "      <td>i am now turning and i feel pathetic that i am...</td>\n",
       "      <td>sadness</td>\n",
       "      <td>turn feel pathetic wait table sub teaching degree</td>\n",
       "    </tr>\n",
       "    <tr>\n",
       "      <th>15997</th>\n",
       "      <td>i feel strong and good overall</td>\n",
       "      <td>joy</td>\n",
       "      <td>feel strong good overall</td>\n",
       "    </tr>\n",
       "    <tr>\n",
       "      <th>15998</th>\n",
       "      <td>i feel like this was such a rude comment and i...</td>\n",
       "      <td>anger</td>\n",
       "      <td>feel like rude comment m glad t</td>\n",
       "    </tr>\n",
       "    <tr>\n",
       "      <th>15999</th>\n",
       "      <td>i know a lot but i feel so stupid because i ca...</td>\n",
       "      <td>sadness</td>\n",
       "      <td>know lot feel stupid portray</td>\n",
       "    </tr>\n",
       "  </tbody>\n",
       "</table>\n",
       "<p>16000 rows × 3 columns</p>\n",
       "</div>"
      ],
      "text/plain": [
       "                                                    text category  \\\n",
       "0                                i didnt feel humiliated  sadness   \n",
       "1      i can go from feeling so hopeless to so damned...  sadness   \n",
       "2       im grabbing a minute to post i feel greedy wrong    anger   \n",
       "3      i am ever feeling nostalgic about the fireplac...     love   \n",
       "4                                   i am feeling grouchy    anger   \n",
       "...                                                  ...      ...   \n",
       "15995  i just had a very brief time in the beanbag an...  sadness   \n",
       "15996  i am now turning and i feel pathetic that i am...  sadness   \n",
       "15997                     i feel strong and good overall      joy   \n",
       "15998  i feel like this was such a rude comment and i...    anger   \n",
       "15999  i know a lot but i feel so stupid because i ca...  sadness   \n",
       "\n",
       "                                           lemmatization  \n",
       "0                                     not feel humiliate  \n",
       "1               feeling hopeless damn hopeful care awake  \n",
       "2                   m grab minute post feel greedy wrong  \n",
       "3                 feel nostalgic fireplace know property  \n",
       "4                                           feel grouchy  \n",
       "...                                                  ...  \n",
       "15995         brief time beanbag say anna feel like beat  \n",
       "15996  turn feel pathetic wait table sub teaching degree  \n",
       "15997                           feel strong good overall  \n",
       "15998                    feel like rude comment m glad t  \n",
       "15999                       know lot feel stupid portray  \n",
       "\n",
       "[16000 rows x 3 columns]"
      ]
     },
     "execution_count": 15,
     "metadata": {},
     "output_type": "execute_result"
    }
   ],
   "source": [
    "dataframe_our"
   ]
  },
  {
   "cell_type": "code",
   "execution_count": 16,
   "id": "e8bcf771-3d02-4694-acf2-11d13013c0e4",
   "metadata": {},
   "outputs": [],
   "source": [
    "dataframe_our.category=\"__label__\"+dataframe_our[\"category\"]\n",
    "dataframe_our[\"description\"]=(dataframe_our.category+dataframe_our.lemmatization).astype(\"str\")"
   ]
  },
  {
   "cell_type": "code",
   "execution_count": 17,
   "id": "4b1fb7ff-5695-4581-9768-b51e597361fe",
   "metadata": {},
   "outputs": [
    {
     "data": {
      "text/html": [
       "<div>\n",
       "<style scoped>\n",
       "    .dataframe tbody tr th:only-of-type {\n",
       "        vertical-align: middle;\n",
       "    }\n",
       "\n",
       "    .dataframe tbody tr th {\n",
       "        vertical-align: top;\n",
       "    }\n",
       "\n",
       "    .dataframe thead th {\n",
       "        text-align: right;\n",
       "    }\n",
       "</style>\n",
       "<table border=\"1\" class=\"dataframe\">\n",
       "  <thead>\n",
       "    <tr style=\"text-align: right;\">\n",
       "      <th></th>\n",
       "      <th>text</th>\n",
       "      <th>category</th>\n",
       "      <th>lemmatization</th>\n",
       "      <th>description</th>\n",
       "    </tr>\n",
       "  </thead>\n",
       "  <tbody>\n",
       "    <tr>\n",
       "      <th>0</th>\n",
       "      <td>i didnt feel humiliated</td>\n",
       "      <td>__label__sadness</td>\n",
       "      <td>not feel humiliate</td>\n",
       "      <td>__label__sadnessnot feel humiliate</td>\n",
       "    </tr>\n",
       "    <tr>\n",
       "      <th>1</th>\n",
       "      <td>i can go from feeling so hopeless to so damned...</td>\n",
       "      <td>__label__sadness</td>\n",
       "      <td>feeling hopeless damn hopeful care awake</td>\n",
       "      <td>__label__sadnessfeeling hopeless damn hopeful ...</td>\n",
       "    </tr>\n",
       "    <tr>\n",
       "      <th>2</th>\n",
       "      <td>im grabbing a minute to post i feel greedy wrong</td>\n",
       "      <td>__label__anger</td>\n",
       "      <td>m grab minute post feel greedy wrong</td>\n",
       "      <td>__label__angerm grab minute post feel greedy w...</td>\n",
       "    </tr>\n",
       "    <tr>\n",
       "      <th>3</th>\n",
       "      <td>i am ever feeling nostalgic about the fireplac...</td>\n",
       "      <td>__label__love</td>\n",
       "      <td>feel nostalgic fireplace know property</td>\n",
       "      <td>__label__lovefeel nostalgic fireplace know pro...</td>\n",
       "    </tr>\n",
       "    <tr>\n",
       "      <th>4</th>\n",
       "      <td>i am feeling grouchy</td>\n",
       "      <td>__label__anger</td>\n",
       "      <td>feel grouchy</td>\n",
       "      <td>__label__angerfeel grouchy</td>\n",
       "    </tr>\n",
       "    <tr>\n",
       "      <th>...</th>\n",
       "      <td>...</td>\n",
       "      <td>...</td>\n",
       "      <td>...</td>\n",
       "      <td>...</td>\n",
       "    </tr>\n",
       "    <tr>\n",
       "      <th>15995</th>\n",
       "      <td>i just had a very brief time in the beanbag an...</td>\n",
       "      <td>__label__sadness</td>\n",
       "      <td>brief time beanbag say anna feel like beat</td>\n",
       "      <td>__label__sadnessbrief time beanbag say anna fe...</td>\n",
       "    </tr>\n",
       "    <tr>\n",
       "      <th>15996</th>\n",
       "      <td>i am now turning and i feel pathetic that i am...</td>\n",
       "      <td>__label__sadness</td>\n",
       "      <td>turn feel pathetic wait table sub teaching degree</td>\n",
       "      <td>__label__sadnessturn feel pathetic wait table ...</td>\n",
       "    </tr>\n",
       "    <tr>\n",
       "      <th>15997</th>\n",
       "      <td>i feel strong and good overall</td>\n",
       "      <td>__label__joy</td>\n",
       "      <td>feel strong good overall</td>\n",
       "      <td>__label__joyfeel strong good overall</td>\n",
       "    </tr>\n",
       "    <tr>\n",
       "      <th>15998</th>\n",
       "      <td>i feel like this was such a rude comment and i...</td>\n",
       "      <td>__label__anger</td>\n",
       "      <td>feel like rude comment m glad t</td>\n",
       "      <td>__label__angerfeel like rude comment m glad t</td>\n",
       "    </tr>\n",
       "    <tr>\n",
       "      <th>15999</th>\n",
       "      <td>i know a lot but i feel so stupid because i ca...</td>\n",
       "      <td>__label__sadness</td>\n",
       "      <td>know lot feel stupid portray</td>\n",
       "      <td>__label__sadnessknow lot feel stupid portray</td>\n",
       "    </tr>\n",
       "  </tbody>\n",
       "</table>\n",
       "<p>16000 rows × 4 columns</p>\n",
       "</div>"
      ],
      "text/plain": [
       "                                                    text          category  \\\n",
       "0                                i didnt feel humiliated  __label__sadness   \n",
       "1      i can go from feeling so hopeless to so damned...  __label__sadness   \n",
       "2       im grabbing a minute to post i feel greedy wrong    __label__anger   \n",
       "3      i am ever feeling nostalgic about the fireplac...     __label__love   \n",
       "4                                   i am feeling grouchy    __label__anger   \n",
       "...                                                  ...               ...   \n",
       "15995  i just had a very brief time in the beanbag an...  __label__sadness   \n",
       "15996  i am now turning and i feel pathetic that i am...  __label__sadness   \n",
       "15997                     i feel strong and good overall      __label__joy   \n",
       "15998  i feel like this was such a rude comment and i...    __label__anger   \n",
       "15999  i know a lot but i feel so stupid because i ca...  __label__sadness   \n",
       "\n",
       "                                           lemmatization  \\\n",
       "0                                     not feel humiliate   \n",
       "1               feeling hopeless damn hopeful care awake   \n",
       "2                   m grab minute post feel greedy wrong   \n",
       "3                 feel nostalgic fireplace know property   \n",
       "4                                           feel grouchy   \n",
       "...                                                  ...   \n",
       "15995         brief time beanbag say anna feel like beat   \n",
       "15996  turn feel pathetic wait table sub teaching degree   \n",
       "15997                           feel strong good overall   \n",
       "15998                    feel like rude comment m glad t   \n",
       "15999                       know lot feel stupid portray   \n",
       "\n",
       "                                             description  \n",
       "0                     __label__sadnessnot feel humiliate  \n",
       "1      __label__sadnessfeeling hopeless damn hopeful ...  \n",
       "2      __label__angerm grab minute post feel greedy w...  \n",
       "3      __label__lovefeel nostalgic fireplace know pro...  \n",
       "4                             __label__angerfeel grouchy  \n",
       "...                                                  ...  \n",
       "15995  __label__sadnessbrief time beanbag say anna fe...  \n",
       "15996  __label__sadnessturn feel pathetic wait table ...  \n",
       "15997               __label__joyfeel strong good overall  \n",
       "15998      __label__angerfeel like rude comment m glad t  \n",
       "15999       __label__sadnessknow lot feel stupid portray  \n",
       "\n",
       "[16000 rows x 4 columns]"
      ]
     },
     "execution_count": 17,
     "metadata": {},
     "output_type": "execute_result"
    }
   ],
   "source": [
    "dataframe_our"
   ]
  },
  {
   "cell_type": "code",
   "execution_count": 18,
   "id": "c04cf9af-dba6-4a8c-8cf2-406b153cdace",
   "metadata": {},
   "outputs": [],
   "source": [
    "from sklearn.model_selection import train_test_split\n",
    "\n",
    "train, test = train_test_split(dataframe_our, test_size=0.2)"
   ]
  },
  {
   "cell_type": "code",
   "execution_count": 19,
   "id": "69788b1a-5841-4860-b905-2a01e9b1a15c",
   "metadata": {},
   "outputs": [],
   "source": [
    "train.to_csv(\"emotion_train.train\",columns=[\"description\"],header=None,index=False)\n",
    "test.to_csv(\"emotion_text.test\",columns=[\"description\"],header=None,index=False)"
   ]
  },
  {
   "cell_type": "code",
   "execution_count": 20,
   "id": "34678cd6-c204-424c-bcd9-cef00bfc6c56",
   "metadata": {},
   "outputs": [],
   "source": [
    "import fasttext\n",
    "\n",
    "model2=fasttext.train_supervised(input=\"emotion_train.train\",epoch=25,lr=0.1, \n",
    "    wordNgrams=2, \n",
    "    loss='softmax')\n",
    "\n"
   ]
  },
  {
   "cell_type": "code",
   "execution_count": 21,
   "id": "b509c70e-55b9-4b6b-8bd1-2de50a1a93e1",
   "metadata": {},
   "outputs": [
    {
     "data": {
      "text/plain": [
       "(2839, 0.4681225783726664, 0.4681225783726664)"
      ]
     },
     "execution_count": 21,
     "metadata": {},
     "output_type": "execute_result"
    }
   ],
   "source": [
    "model2.test(\"emotion_text.test\")"
   ]
  },
  {
   "cell_type": "code",
   "execution_count": 22,
   "id": "5bd629ac-ef87-45b6-ae2d-d593b98df628",
   "metadata": {},
   "outputs": [
    {
     "data": {
      "text/plain": [
       "(('__label__angerfeel',), array([0.28545228]))"
      ]
     },
     "execution_count": 22,
     "metadata": {},
     "output_type": "execute_result"
    }
   ],
   "source": [
    "model2.predict(\"He be very angry after the argument.\")"
   ]
  },
  {
   "cell_type": "code",
   "execution_count": 23,
   "id": "7cd12187-5e58-4d9d-a261-dfab49fdc7d6",
   "metadata": {},
   "outputs": [],
   "source": [
    "lemmatized_sentences = [\n",
    "    \"I be very angry because of what happen.\",\n",
    "    \"She feel sadness when she hear the news.\",\n",
    "    \"They be so happy after the success.\",\n",
    "    \"He be afraid of the upcoming test.\",\n",
    "    \"I be surprised by the unexpected gift.\"\n",
    "]"
   ]
  },
  {
   "cell_type": "code",
   "execution_count": 24,
   "id": "c081a131-6ea2-45fd-a404-96013d41dbda",
   "metadata": {},
   "outputs": [
    {
     "data": {
      "text/plain": [
       "([['__label__angerfeel'],\n",
       "  ['__label__sadnesshate'],\n",
       "  ['__label__joyfeel'],\n",
       "  ['__label__fearfeel'],\n",
       "  ['__label__surprisefeel']],\n",
       " [array([0.18981902], dtype=float32),\n",
       "  array([0.00341314], dtype=float32),\n",
       "  array([0.10319529], dtype=float32),\n",
       "  array([0.15536419], dtype=float32),\n",
       "  array([0.00974249], dtype=float32)])"
      ]
     },
     "execution_count": 24,
     "metadata": {},
     "output_type": "execute_result"
    }
   ],
   "source": [
    "model2.predict(lemmatized_sentences)"
   ]
  },
  {
   "cell_type": "code",
   "execution_count": 25,
   "id": "8b260630-a640-4f31-a389-e2ff625014b1",
   "metadata": {},
   "outputs": [
    {
     "data": {
      "text/plain": [
       "(('__label__joyfeeling',), array([0.02410323]))"
      ]
     },
     "execution_count": 25,
     "metadata": {},
     "output_type": "execute_result"
    }
   ],
   "source": [
    "model2.predict(\"What you do here\")"
   ]
  },
  {
   "cell_type": "code",
   "execution_count": 29,
   "id": "ec8cf999-c7af-48ad-a7e2-0596c28abbed",
   "metadata": {},
   "outputs": [],
   "source": [
    "cümle=preprocess(\"I love you you dont love me\")"
   ]
  },
  {
   "cell_type": "code",
   "execution_count": 30,
   "id": "22a142d9-4981-4774-a16e-3b2d34db8e6d",
   "metadata": {},
   "outputs": [
    {
     "data": {
      "text/plain": [
       "'love not love'"
      ]
     },
     "execution_count": 30,
     "metadata": {},
     "output_type": "execute_result"
    }
   ],
   "source": [
    "def cümle(text):\n",
    "    "
   ]
  },
  {
   "cell_type": "code",
   "execution_count": 32,
   "id": "e56987a0-bae2-42b3-a0fa-db48b21d0e7e",
   "metadata": {},
   "outputs": [
    {
     "data": {
      "text/plain": [
       "(('__label__lovefeel',), array([0.999879]))"
      ]
     },
     "execution_count": 32,
     "metadata": {},
     "output_type": "execute_result"
    }
   ],
   "source": [
    "model2.predict(cümle)"
   ]
  },
  {
   "cell_type": "code",
   "execution_count": null,
   "id": "e09fffb1-ba89-4486-97ee-c00ecb30c63c",
   "metadata": {},
   "outputs": [],
   "source": []
  },
  {
   "cell_type": "code",
   "execution_count": null,
   "id": "96159700-00cb-4554-81ec-19182e477014",
   "metadata": {},
   "outputs": [],
   "source": [
    "\n",
    ","
   ]
  }
 ],
 "metadata": {
  "kernelspec": {
   "display_name": "Python 3 (ipykernel)",
   "language": "python",
   "name": "python3"
  },
  "language_info": {
   "codemirror_mode": {
    "name": "ipython",
    "version": 3
   },
   "file_extension": ".py",
   "mimetype": "text/x-python",
   "name": "python",
   "nbconvert_exporter": "python",
   "pygments_lexer": "ipython3",
   "version": "3.10.15"
  }
 },
 "nbformat": 4,
 "nbformat_minor": 5
}
